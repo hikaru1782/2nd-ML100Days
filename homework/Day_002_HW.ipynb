{
 "cells": [
  {
   "cell_type": "markdown",
   "metadata": {},
   "source": [
    "## 練習時間\n",
    "資料的操作有很多，接下來的馬拉松中我們會介紹常被使用到的操作，參加者不妨先自行想像一下，第一次看到資料，我們一般會想知道什麼訊息？\n",
    "\n",
    "#### Ex: 如何知道資料的 row 數以及 column 數、有什麼欄位、多少欄位、如何截取部分的資料等等\n",
    "\n",
    "有了對資料的好奇之後，我們又怎麼通過程式碼來達成我們的目的呢？\n",
    "\n",
    "#### 可參考該[基礎教材](https://bookdata.readthedocs.io/en/latest/base/01_pandas.html#DataFrame-%E5%85%A5%E9%97%A8)或自行 google"
   ]
  },
  {
   "cell_type": "code",
   "execution_count": 5,
   "metadata": {
    "collapsed": true
   },
   "outputs": [],
   "source": [
    "import os\n",
    "import numpy as np\n",
    "import pandas as pd"
   ]
  },
  {
   "cell_type": "code",
   "execution_count": 6,
   "metadata": {
    "collapsed": true
   },
   "outputs": [],
   "source": [
    "# 設定 data_path\n",
    "dir_data = './data/'"
   ]
  },
  {
   "cell_type": "code",
   "execution_count": 20,
   "metadata": {},
   "outputs": [
    {
     "name": "stdout",
     "output_type": "stream",
     "text": [
      "Path of read in data: ./data/application_train.csv\n"
     ]
    }
   ],
   "source": [
    "f_app = os.path.join(dir_data, 'application_train.csv')\n",
    "f_hc = os.path.join(dir_data, 'HomeCredit_columns_description.csv')\n",
    "print('Path of read in data: %s' % (f_app))\n",
    "app_train = pd.read_csv(f_app)\n",
    "hc_train = pd.read_csv(f_hc,engine='python')"
   ]
  },
  {
   "cell_type": "markdown",
   "metadata": {},
   "source": [
    "### 如果沒有想法，可以先嘗試找出剛剛例子中提到的問題的答案\n",
    "#### 資料的 row 數以及 column 數"
   ]
  },
  {
   "cell_type": "code",
   "execution_count": 27,
   "metadata": {},
   "outputs": [
    {
     "name": "stdout",
     "output_type": "stream",
     "text": [
      "<class 'pandas.core.frame.DataFrame'>\n",
      "RangeIndex: 219 entries, 0 to 218\n",
      "Data columns (total 5 columns):\n",
      "Unnamed: 0     219 non-null int64\n",
      "Table          219 non-null object\n",
      "Row            219 non-null object\n",
      "Description    219 non-null object\n",
      "Special        86 non-null object\n",
      "dtypes: int64(1), object(4)\n",
      "memory usage: 8.6+ KB\n"
     ]
    }
   ],
   "source": [
    "fhc=pd.read_csv('HomeCredit_columns_description.csv',engine='python' )\n",
    "\n",
    "# 查詢檔案的資訊\n",
    "fhc.info()  "
   ]
  },
  {
   "cell_type": "markdown",
   "metadata": {},
   "source": [
    "#### 列出所有欄位"
   ]
  },
  {
   "cell_type": "code",
   "execution_count": 31,
   "metadata": {},
   "outputs": [
    {
     "data": {
      "text/html": [
       "<div>\n",
       "<style scoped>\n",
       "    .dataframe tbody tr th:only-of-type {\n",
       "        vertical-align: middle;\n",
       "    }\n",
       "\n",
       "    .dataframe tbody tr th {\n",
       "        vertical-align: top;\n",
       "    }\n",
       "\n",
       "    .dataframe thead th {\n",
       "        text-align: right;\n",
       "    }\n",
       "</style>\n",
       "<table border=\"1\" class=\"dataframe\">\n",
       "  <thead>\n",
       "    <tr style=\"text-align: right;\">\n",
       "      <th></th>\n",
       "      <th>Unnamed: 0</th>\n",
       "      <th>Table</th>\n",
       "      <th>Row</th>\n",
       "      <th>Description</th>\n",
       "      <th>Special</th>\n",
       "    </tr>\n",
       "  </thead>\n",
       "  <tbody>\n",
       "  </tbody>\n",
       "</table>\n",
       "</div>"
      ],
      "text/plain": [
       "Empty DataFrame\n",
       "Columns: [Unnamed: 0, Table, Row, Description, Special]\n",
       "Index: []"
      ]
     },
     "execution_count": 31,
     "metadata": {},
     "output_type": "execute_result"
    }
   ],
   "source": [
    "fhc.head(0)"
   ]
  },
  {
   "cell_type": "markdown",
   "metadata": {},
   "source": [
    "#### 截取部分資料"
   ]
  },
  {
   "cell_type": "code",
   "execution_count": 32,
   "metadata": {},
   "outputs": [
    {
     "name": "stdout",
     "output_type": "stream",
     "text": [
      "    Unnamed: 0                         Table                         Row  \\\n",
      "10          13  application_{train|test}.csv             AMT_GOODS_PRICE   \n",
      "11          14  application_{train|test}.csv             NAME_TYPE_SUITE   \n",
      "12          15  application_{train|test}.csv            NAME_INCOME_TYPE   \n",
      "13          16  application_{train|test}.csv         NAME_EDUCATION_TYPE   \n",
      "14          17  application_{train|test}.csv          NAME_FAMILY_STATUS   \n",
      "15          18  application_{train|test}.csv           NAME_HOUSING_TYPE   \n",
      "16          19  application_{train|test}.csv  REGION_POPULATION_RELATIVE   \n",
      "17          20  application_{train|test}.csv                  DAYS_BIRTH   \n",
      "18          21  application_{train|test}.csv               DAYS_EMPLOYED   \n",
      "19          22  application_{train|test}.csv           DAYS_REGISTRATION   \n",
      "\n",
      "                                          Description  \\\n",
      "10  For consumer loans it is the price of the good...   \n",
      "11  Who was accompanying client when he was applyi...   \n",
      "12  Clients income type (businessman, working, mat...   \n",
      "13     Level of highest education the client achieved   \n",
      "14                        Family status of the client   \n",
      "15  What is the housing situation of the client (r...   \n",
      "16  Normalized population of region where client l...   \n",
      "17    Client's age in days at the time of application   \n",
      "18  How many days before the application the perso...   \n",
      "19  How many days before the application did clien...   \n",
      "\n",
      "                                  Special  \n",
      "10                                    NaN  \n",
      "11                                    NaN  \n",
      "12                                    NaN  \n",
      "13                                    NaN  \n",
      "14                                    NaN  \n",
      "15                                    NaN  \n",
      "16                            normalized   \n",
      "17  time only relative to the application  \n",
      "18  time only relative to the application  \n",
      "19  time only relative to the application  \n"
     ]
    }
   ],
   "source": [
    "# 擷取 11~20筆資料\n",
    "print(fhc[10:20])  "
   ]
  },
  {
   "cell_type": "code",
   "execution_count": 34,
   "metadata": {},
   "outputs": [
    {
     "name": "stdout",
     "output_type": "stream",
     "text": [
      "0                             ID of loan in our sample\n",
      "1    Target variable (1 - client with payment diffi...\n",
      "2          Identification if loan is cash or revolving\n",
      "3                                 Gender of the client\n",
      "4                        Flag if the client owns a car\n",
      "Name: Description, dtype: object\n"
     ]
    }
   ],
   "source": [
    "# 印特定column 'Description' 的前五筆資料\n",
    "print(fhc['Description'][:5])"
   ]
  },
  {
   "cell_type": "markdown",
   "metadata": {},
   "source": [
    "#### 還有各種數之不盡的資料操作，重點還是取決於實務中遇到的狀況和你想問的問題，在馬拉松中我們也會陸續提到更多例子"
   ]
  },
  {
   "cell_type": "code",
   "execution_count": 36,
   "metadata": {},
   "outputs": [
    {
     "data": {
      "text/plain": [
       "{'confidence': 0.73, 'encoding': 'Windows-1252', 'language': ''}"
      ]
     },
     "execution_count": 36,
     "metadata": {},
     "output_type": "execute_result"
    }
   ],
   "source": [
    "## 補充\n",
    "# 查詢原始檔案的編碼方式\n",
    "\n",
    "import chardet \n",
    "\n",
    "with open('HomeCredit_columns_description.csv','rb') as f:      \n",
    "\n",
    "    result = chardet.detect(f.read()) \n",
    "result"
   ]
  },
  {
   "cell_type": "markdown",
   "metadata": {
    "collapsed": true
   },
   "source": [
    "UnicodeDecodeError: 'utf-8' codec can't decode byte 0x85 in position 59: invalid start byte 錯誤原因\n",
    "    \n",
    "這個部分是讀檔的時候預設的編碼方式跟實際內容不同導致的錯誤。 <br>  \n",
    "有可能是作業系統環境的差異導致。 <br>  \n",
    "不管你是用 Python 原生的 open/read 或是 Pandas 提供的 read_csv 方法，都可以再開檔的時候指定 encoding 參數。 <br>  \n",
    "\n",
    "\n",
    "假設要使用 utf-8 編碼方式存取檔案，使用方法如下：<br>  \n",
    "\n",
    "```\n",
    "\n",
    "encoding = 'utf-8'   \n",
    "\n",
    "# 法一  \n",
    "\n",
    "f =open('filename.txt','r', encoding=encoding)  \n",
    "\n",
    "text = f.read() \n",
    "\n",
    " f.close()   \n",
    "\n",
    "\n",
    "\n",
    "# 法二 \n",
    "\n",
    "df = pd.read_csv('filename.csv',encoding=encoding)   \n",
    "\n",
    "```\n",
    "\n",
    "\n",
    "\n",
    "另外一種常見的問題是，可能不知道原始檔案的編碼方式為何，可以透過 chardet 工具來查詢：\n",
    "\n",
    "\n",
    "\n",
    "```\n",
    "\n",
    "import chardet \n",
    "\n",
    "with open('filename.txt','rb') as f:      \n",
    "\n",
    "    result = chardet.detect(f.read()) \n",
    "\n",
    "```\n",
    "\n",
    "\n",
    "\n",
    "\n",
    "\n",
    "最後科普一下幾種常見的編碼格式：\n",
    "\n",
    "\n",
    "\n",
    "* Unicode/UTF8：萬國碼，可支援多種語言的編碼格式\n",
    "\n",
    "* ISO-8859-1/latin1：主要用於歐系國家的文字\n",
    "\n",
    "* Big5：繁體中文\n",
    "\n",
    "* GBK：簡體中文\n",
    "\n",
    "* cp950：windows 預設的編碼"
   ]
  },
  {
   "cell_type": "code",
   "execution_count": null,
   "metadata": {
    "collapsed": true
   },
   "outputs": [],
   "source": []
  }
 ],
 "metadata": {
  "kernelspec": {
   "display_name": "Python 3",
   "language": "python",
   "name": "python3"
  },
  "language_info": {
   "codemirror_mode": {
    "name": "ipython",
    "version": 3
   },
   "file_extension": ".py",
   "mimetype": "text/x-python",
   "name": "python",
   "nbconvert_exporter": "python",
   "pygments_lexer": "ipython3",
   "version": "3.6.1"
  }
 },
 "nbformat": 4,
 "nbformat_minor": 2
}
